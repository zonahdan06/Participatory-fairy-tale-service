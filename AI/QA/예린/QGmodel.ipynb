{
 "cells": [
  {
   "cell_type": "code",
   "execution_count": null,
   "id": "052eb2fc",
   "metadata": {},
   "outputs": [],
   "source": [
    "!pip install TextBlob"
   ]
  },
  {
   "cell_type": "code",
   "execution_count": null,
   "id": "e8980ef9",
   "metadata": {},
   "outputs": [],
   "source": [
    "!pip install summa"
   ]
  },
  {
   "cell_type": "code",
   "execution_count": null,
   "id": "207523a4",
   "metadata": {},
   "outputs": [],
   "source": [
    "#요약파트\n",
    "from summa.summarizer import summarize\n",
    "f = open(\"tale.txt\", 'r')\n",
    "data = f.read()\n",
    "summary = summarize(data, ratio=0.2)\n",
    "from textblob import TextBlob \n",
    "import nltk\n",
    "nltk.download('punkt')\n",
    "nltk.download('averaged_perceptron_tagger')"
   ]
  },
  {
   "cell_type": "code",
   "execution_count": null,
   "id": "cdc499b8",
   "metadata": {},
   "outputs": [],
   "source": [
    "#요약문이 잘 생성 되는 지 확인\n",
    "print(summary)\n",
    "print(data)"
   ]
  },
  {
   "cell_type": "code",
   "execution_count": 1,
   "id": "f95d8889",
   "metadata": {},
   "outputs": [],
   "source": [
    "#질문 생성 파트\n",
    "summary= \"Nolbu immediately broke the baby swallow's leg.\""
   ]
  },
  {
   "cell_type": "code",
   "execution_count": 2,
   "id": "e24ebd7e",
   "metadata": {},
   "outputs": [
    {
     "name": "stdout",
     "output_type": "stream",
     "text": [
      "0\n",
      "1\n",
      "2\n",
      "3\n",
      "4\n",
      "6\n"
     ]
    }
   ],
   "source": [
    "from textblob import TextBlob \n",
    "if type(summary) is str:     # If the passed variable is of type string.\n",
    "        summary = TextBlob(summary) # Create object of type textblob.blob.TextBlob\n",
    "bucket = {}               # Create an empty dictionary\n",
    "\n",
    "\n",
    "for i,j in enumerate(summary.tags):  # line.tags are the parts-of-speach in English\n",
    "    if j[1] not in bucket:\n",
    "        bucket[j[1]] = i  # Add all tags to the dictionary or bucket variable\n",
    "        print(bucket[j[1]])\n",
    "\n",
    "    \n",
    "question = ''            # Create an empty string "
   ]
  },
  {
   "cell_type": "code",
   "execution_count": 3,
   "id": "b8037093",
   "metadata": {},
   "outputs": [
    {
     "name": "stdout",
     "output_type": "stream",
     "text": [
      "{'NNP': 0, 'RB': 1, 'VBD': 2, 'DT': 3, 'NN': 4, 'POS': 6}\n"
     ]
    }
   ],
   "source": [
    "print(bucket)"
   ]
  },
  {
   "cell_type": "code",
   "execution_count": 4,
   "id": "e90ac988",
   "metadata": {},
   "outputs": [],
   "source": [
    "l1 = ['NNP', 'VBG', 'VBZ', 'IN']\n",
    "l2 = ['NNP', 'VBG', 'VBZ']    \n",
    "l3 = ['PRP', 'VBG', 'VBZ', 'IN']\n",
    "l4 = ['PRP', 'VBG', 'VBZ']\n",
    "l5 = ['PRP', 'VBG', 'VBD']\n",
    "l6 = ['NNP', 'VBG', 'VBD']\n",
    "l7 = ['NN', 'VBG', 'VBZ']\n",
    "l8 = ['NN', 'VBG', 'JJ']\n",
    "l9 = ['NNP', 'VBD', 'NN']\n",
    "l10 = ['NNP', 'VBZ']\n",
    "l11 = ['PRP', 'VBD']\n",
    "l12 = ['NNP', 'NN', 'IN']\n",
    "l13 = ['NN', 'VBZ']"
   ]
  },
  {
   "cell_type": "code",
   "execution_count": 5,
   "id": "77806c42",
   "metadata": {},
   "outputs": [
    {
     "name": "stdout",
     "output_type": "stream",
     "text": [
      "\n",
      " Question: What did broke Nolbu?\n"
     ]
    }
   ],
   "source": [
    "if all(key in  bucket.keys() for key in l1): #'NNP', 'VBG', 'VBZ', 'IN' in sentence.\n",
    "    question = 'What' + ' ' + summary.words[bucket['VBZ']] +' '+ summary.words[bucket['NNP']]+ ' '+ summary.words[bucket['VBG']] + '?'\n",
    "elif all(key in  bucket for key in l2): #'NNP', 'VBG', 'VBZ' in sentence.\n",
    "    question = 'What' + ' ' + summary.words[bucket['VBZ']] +' '+ summary.words[bucket['NNP']] +' '+ summary.words[bucket['VBG']] + '?'\n",
    "elif all(key in  bucket for key in l3): #'PRP', 'VBG', 'VBZ', 'IN' in sentence.\n",
    "    question = 'What' + ' ' + summary.words[bucket['VBZ']] +' '+ summary.words[bucket['PRP']]+ ' '+ summary.words[bucket['VBG']] + '?'   \n",
    "elif all(key in  bucket for key in l4): #'PRP', 'VBG', 'VBZ' in sentence.\n",
    "    question = 'What ' + summary.words[bucket['PRP']] +' '+  ' does ' + summary.words[bucket['VBG']]+ ' '+  summary.words[bucket['VBG']] + '?'\n",
    "elif all(key in  bucket for key in l7): #'NN', 'VBG', 'VBZ' in sentence.\n",
    "    question = 'What' + ' ' + summary.words[bucket['VBZ']] +' '+ summary.words[bucket['NN']] +' '+ summary.words[bucket['VBG']] + '?'\n",
    "elif all(key in bucket.keys() for key in l8): #'NNP', 'VBZ', 'JJ' in sentence.\n",
    "    question = 'What' + ' ' + summary.words[bucket['VBG']] + ' ' + summary.words[bucket['NN']] + '?'\n",
    "elif all(key in bucket for key in l9): #'NNP', 'VBZ', 'NN' in sentence\n",
    "    question = 'What ' +'did' + ' ' + summary.words[bucket['VBD']] + ' ' + summary.words[bucket['NNP']] + '?'\n",
    "elif all(key in bucket for key in l11): #'PRP', 'VBZ' in sentence.\n",
    "    if summary.words[bucket['PRP']] in ['she','he']:\n",
    "        question = 'What' + ' does ' + summary.words[bucket['PRP']].lower() + ' ' + summary.words[bucket['VBD']].singularize() + '?'\n",
    "elif all(key in bucket for key in l10): #'NNP', 'VBZ' in sentence.\n",
    "    question = 'What' + ' does ' + summary.words[bucket['NNP']] + ' ' + summary.words[bucket['VBZ']].singularize() + '?'\n",
    "elif all(key in bucket for key in l13): #'NN', 'VBZ' in sentence.\n",
    "    question = 'What' + ' ' + summary.words[bucket['VBZ']] + ' ' + summary.words[bucket['NN']] + '?'\n",
    "    # When the tags are generated 's is split to ' and s. To overcome this issue.\n",
    "if 'VBZ' in bucket and summary.words[bucket['VBZ']] == \"’\":\n",
    "    question = question.replace(\" ’ \",\"'s \")\n",
    "    # Print the genetated questions as output.\n",
    "if question != '':\n",
    "    print('\\n', 'Question: ' + question ) "
   ]
  },
  {
   "cell_type": "code",
   "execution_count": null,
   "id": "ba10d2a5",
   "metadata": {},
   "outputs": [],
   "source": []
  }
 ],
 "metadata": {
  "kernelspec": {
   "display_name": "Python 3",
   "language": "python",
   "name": "python3"
  },
  "language_info": {
   "codemirror_mode": {
    "name": "ipython",
    "version": 3
   },
   "file_extension": ".py",
   "mimetype": "text/x-python",
   "name": "python",
   "nbconvert_exporter": "python",
   "pygments_lexer": "ipython3",
   "version": "3.8.8"
  }
 },
 "nbformat": 4,
 "nbformat_minor": 5
}
